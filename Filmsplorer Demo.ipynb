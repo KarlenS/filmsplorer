{
 "cells": [
  {
   "cell_type": "markdown",
   "metadata": {},
   "source": [
    "# Film Data from Box Office Mojo and IMDb"
   ]
  },
  {
   "cell_type": "markdown",
   "metadata": {},
   "source": [
    "### Goal: explore available film data in the context of gender inequality in Hollywood"
   ]
  },
  {
   "cell_type": "code",
   "execution_count": 1,
   "metadata": {},
   "outputs": [],
   "source": [
    "%matplotlib inline\n",
    "\n",
    "import numpy as np\n",
    "import pandas as pd\n",
    "import sklearn\n",
    "import matplotlib.pyplot as plt\n",
    "import json\n",
    "import pymysql\n",
    "\n",
    "import collect\n",
    "import analyze"
   ]
  },
  {
   "cell_type": "code",
   "execution_count": null,
   "metadata": {},
   "outputs": [],
   "source": [
    "help(collect)"
   ]
  },
  {
   "cell_type": "code",
   "execution_count": null,
   "metadata": {},
   "outputs": [],
   "source": [
    "movies_df = analyze.get_gender_data_from_db(glim=[10000000,100000000])\n",
    "movies_df.head()"
   ]
  },
  {
   "cell_type": "markdown",
   "metadata": {},
   "source": [
    "## Looking at gender breakdown by year\n",
    "\n",
    "The `field` argument can be changed to any of the roles explored (cast,writers,directors,etc.)"
   ]
  },
  {
   "cell_type": "code",
   "execution_count": 23,
   "metadata": {},
   "outputs": [
    {
     "data": {
      "image/png": "[encoded data removed]",
      "text/plain": [
       "<Figure size 720x432 with 2 Axes>"
      ]
     },
     "metadata": {
      "needs_background": "light"
     },
     "output_type": "display_data"
    }
   ],
   "source": [
    "analyze.plot_yearly_data(1980,2018,field='directors')"
   ]
  },
  {
   "cell_type": "markdown",
   "metadata": {},
   "source": [
    "## With a corner plot, can explore potential correlations between any of the fields\n",
    "The data here are the gender counts per movie."
   ]
  },
  {
   "cell_type": "code",
   "execution_count": null,
   "metadata": {},
   "outputs": [],
   "source": [
    "analyze.corner_plot(1980,2018)"
   ]
  },
  {
   "cell_type": "markdown",
   "metadata": {},
   "source": [
    "### Looking closer at producers vs. cast plot"
   ]
  },
  {
   "cell_type": "code",
   "execution_count": null,
   "metadata": {},
   "outputs": [],
   "source": [
    "analyze.corr_plot('writers','writers')"
   ]
  },
  {
   "cell_type": "markdown",
   "metadata": {},
   "source": [
    "TO DO:\n",
    "\n",
    "Let's say we want to bring *fraction female* for `cast` closer to 0.5. \n",
    "\n",
    "**Are there features that track well with *fraction female* for `cast`?**\n",
    "\n",
    "Need to assess the gross earnings cutoff before going much further.\n",
    "\n",
    "Eventually, set up a classification problem, defining categories e.g., fraction > 0.4 and fraction < 0.4."
   ]
  },
  {
   "cell_type": "code",
   "execution_count": 2,
   "metadata": {},
   "outputs": [
    {
     "name": "stdout",
     "output_type": "stream",
     "text": [
      "Skipping Oliver & Company\n",
      "Skipping Justin Bieber: Never Say Never\n",
      "Skipping Michael Jackson's This Is It\n",
      "Skipping Hero\n",
      "Skipping Deep Sea 3D (IMAX)\n",
      "Skipping Wonder Park\n",
      "Skipping The Beverly Hillbillies\n",
      "Skipping Paddington 2\n",
      "Skipping Song of the South (Re-issue) (1980)\n",
      "Skipping Bounce\n",
      "Skipping Under the Sea 3D\n",
      "Skipping Smokin' Aces\n",
      "Skipping White Fang\n",
      "Skipping Magnificent Desolation (IMAX)\n",
      "Skipping Monster Trucks\n",
      "Skipping Bend It Like Beckham\n",
      "Skipping Unfriended\n",
      "Skipping Rumble in the Bronx\n",
      "Skipping Earth (2009)\n",
      "Skipping The Bear\n",
      "Skipping The Debt\n",
      "Skipping Dragon Ball Super: Broly\n",
      "Skipping Toy Story / Toy Story 2 (3D)\n",
      "Skipping Open Water\n",
      "Skipping Underworld: Blood Wars\n",
      "Skipping Daybreakers\n",
      "Skipping The Gods Must Be Crazy\n",
      "Skipping Spice World\n",
      "Skipping One Direction: This is Us\n",
      "Skipping Oculus\n",
      "Skipping Brooklyn's Finest\n",
      "Skipping Resident Evil: The Final Chapter\n",
      "Skipping The Woman in Black 2: Angel of Death\n",
      "Skipping The Descent\n",
      "Skipping Born to Be Wild (IMAX)\n",
      "Skipping Memento\n",
      "Skipping Katy Perry: Part of Me\n",
      "Skipping Black Widow\n",
      "Skipping Thank You for Smoking\n",
      "Skipping Ballerina (2017) [Canada Only]\n",
      "Skipping Lionheart\n",
      "Skipping Don't Be Afraid of the Dark\n",
      "Skipping Sea Monsters: A Prehistoric Adventure (IMAX)\n",
      "Skipping The Road Warrior\n",
      "Skipping Won't You Be My Neighbor?\n",
      "Skipping The Borrowers\n",
      "Skipping Darkness\n",
      "Skipping Don Juan de Marco\n",
      "Skipping Friday the 13th - Part V\n",
      "Skipping Il Postino\n",
      "Skipping Like Water for Chocolate\n",
      "Skipping Mud\n",
      "Skipping Black or White\n",
      "Skipping The Place Beyond the Pines\n",
      "Skipping Amazing Grace\n",
      "Skipping Cabin Fever\n",
      "Skipping A Room with a View\n",
      "Skipping Quest for Fire\n",
      "Skipping Whale Rider\n",
      "Skipping Porky's Revenge (Part III)\n",
      "Skipping Tess\n",
      "Skipping House\n",
      "Skipping Oceans\n",
      "Skipping The Secret World of Arrietty\n",
      "Skipping Jonas Brothers: The 3D Concert Experience\n",
      "Skipping Bugs! (IMAX)\n",
      "Skipping Haywire\n",
      "Skipping Thrill Ride (IMAX)\n",
      "Skipping Eye in the Sky\n",
      "Skipping The Ninth Gate\n",
      "Skipping Galapagos (IMAX)\n",
      "Skipping You're Next\n",
      "Skipping Super Troopers\n",
      "Skipping Quartet\n",
      "Skipping Sugar Hill\n",
      "Skipping The Aristocats (Re-issue) (1980)\n",
      "Skipping They Shall Not Grow Old\n",
      "Skipping The Big Easy\n",
      "Skipping Free Solo\n",
      "Skipping The Aristocats (Re-issue) (1987)\n",
      "Skipping Chappaquiddick\n",
      "Skipping The Neverending Story II\n",
      "Skipping Inkheart\n",
      "Skipping Seventh Son\n",
      "Skipping 88 Minutes\n",
      "Skipping Sidekicks\n",
      "Skipping Kung Fu Hustle\n",
      "Skipping Pokemon 3: The Movie\n",
      "Skipping Ghosts of the Abyss (IMAX & 35mm)\n",
      "Skipping The Hurt Locker\n",
      "Skipping Splice\n",
      "Skipping Blink\n",
      "Skipping Wild Safari 3D (IMAX)\n",
      "Skipping Eye of the Beholder\n",
      "Skipping An American Haunting\n",
      "Skipping Supercop\n",
      "Skipping Begin Again\n",
      "Skipping Tyler Perry's The Single Moms Club\n",
      "Skipping Eddie the Eagle\n",
      "Skipping Ponyo\n",
      "Skipping Cirque du Soleil: Journey of Man (IMAX)\n",
      "Skipping Happily N'Ever After\n",
      "Skipping Shackleton's Antarctic Adventure (IMAX)\n",
      "Skipping In America\n",
      "Skipping Catch and Release\n",
      "Skipping Legend\n",
      "Skipping Jackie Chan's First Strike\n",
      "Skipping Alpha Dog\n",
      "Skipping Youth in Revolt\n",
      "Skipping Muriel's Wedding\n",
      "Skipping Shipwrecked\n",
      "Skipping Madonna: Truth or Dare\n",
      "Skipping Iron Monkey\n",
      "Skipping It Follows\n",
      "Skipping Hello, My Name is Doris\n",
      "Skipping Spring Breakers\n",
      "Skipping RBG\n",
      "Skipping The Lord of the Flies\n",
      "Skipping Follow That Bird (Sesame St.)\n",
      "Skipping Jackie\n",
      "Skipping Monsoon Wedding\n",
      "Skipping Born in China\n",
      "Skipping Y Tu Mama Tambien\n",
      "Skipping Haunted Castle (IMAX)\n",
      "Skipping The Namesake\n",
      "Skipping Africa's Elephant Kingdom (IMAX)\n",
      "Skipping Solarmax\n",
      "Skipping Labor Day\n",
      "Skipping The Adventures of Milo and Otis\n",
      "Skipping The Entity\n",
      "Skipping Body of Evidence\n",
      "Skipping Case 39\n",
      "Skipping Enchanted April\n",
      "Skipping Jason X\n",
      "Skipping Frailty\n",
      "Skipping The Founder\n",
      "Skipping Silent House\n",
      "Skipping Atlantic City\n",
      "Skipping Mr. Nice Guy\n",
      "Skipping Under the Same Moon\n",
      "Skipping Love & Mercy\n",
      "Skipping Black Mask\n",
      "Skipping Extreme (IMAX)\n",
      "Skipping Spirited Away\n",
      "Skipping Cinema Paradiso\n",
      "Skipping Three Identical Strangers\n",
      "Skipping Highlander 3: The Final Dimension\n",
      "Skipping Sunshine Cleaning\n",
      "Skipping The Protector (2006)\n",
      "Skipping The Sword in the Stone (Re-issue)\n",
      "Skipping Strictly Ballroom\n",
      "Skipping Dave Chappelle's Block Party\n",
      "Skipping Knockaround Guys\n",
      "Skipping Winged Migration\n",
      "Skipping Rock-A-Doodle\n",
      "Skipping The Legend of Drunken Master\n",
      "Skipping The Conspirator\n",
      "Skipping Young Einstein\n",
      "Skipping Army of Darkness\n",
      "Skipping Das Boot\n",
      "Skipping The Lives of Others\n",
      "Skipping Brotherhood of the Wolf\n",
      "Skipping Cyberworld 3-D (IMAX)\n",
      "Skipping Island of Lemurs: Madagascar (IMAX)\n",
      "Skipping The Smurfs and the Magic Flute\n",
      "Skipping Wild Orchid\n",
      "Skipping The Astronaut Farmer\n",
      "Skipping Adrenaline Rush: The Science of Risk (IMAX)\n",
      "Skipping Island of the Sharks (IMAX)\n",
      "Skipping Roving Mars (IMAX)\n",
      "Skipping Operation Condor\n",
      "Skipping U2 3D\n",
      "Skipping The Year of Living Dangerously\n",
      "Skipping Santa Vs. the Snowman (IMAX)\n",
      "Skipping The Intouchables (U.S.-only)\n",
      "Skipping The Belko Experiment\n",
      "Skipping The Girl with the Dragon Tattoo\n",
      "Skipping Pulse: A Stomp Odyssey (IMAX)\n",
      "Skipping Criminal Law\n",
      "Skipping Night Falls on Manhattan\n",
      "Skipping The Wife\n",
      "Skipping The Spanish Prisoner\n",
      "Skipping Shall We Dance?\n",
      "Skipping Bullet to the Head\n",
      "Skipping Rock Dog\n",
      "Skipping Black Snake Moan\n",
      "Skipping Hardcore Henry\n",
      "Skipping Dark Blue\n",
      "Skipping Bernie\n",
      "Skipping Tyler Perry Presents Peeples\n",
      "Skipping Get Low\n",
      "Skipping Hotel Mumbai\n",
      "Skipping Warlock\n",
      "Skipping The Lobster (US Release)\n",
      "Skipping Salmon Fishing in the Yemen\n",
      "Skipping Aliens of the Deep (IMAX)\n",
      "Skipping Alien Adventure (IMAX)\n",
      "Skipping In the Mouth of Madness\n",
      "Skipping Salsa - The Motion Picture\n",
      "Skipping Mad Max\n",
      "Skipping U2: Rattle and Hum\n",
      "Skipping Boat Trip\n",
      "Skipping The Lost City of Z\n",
      "Skipping Apollo 11\n",
      "Skipping Legends of Oz: Dorothy's Return\n",
      "Skipping Amy\n",
      "Skipping Twin Dragons\n",
      "Skipping My Life as a Dog\n",
      "Skipping Dirty Pretty Things\n",
      "Skipping A Cure for Wellness\n",
      "Skipping The Adventures of Baron Munchausen\n",
      "Skipping Bella\n",
      "Skipping The Death of Stalin\n",
      "Skipping Bad Words\n",
      "Skipping The Cook, The Thief, His Wife and Her Lover\n",
      "Skipping Tupac: Resurrection\n",
      "Skipping Dolphins and Whales: Tribes of the Ocean 3D\n",
      "Skipping Sarah's Key\n",
      "Skipping The Girl Who Played with Fire\n",
      "Skipping While We're Young\n",
      "Skipping City of God\n",
      "Skipping El Cantante\n",
      "Skipping How to Become a Detective\n",
      "Skipping Mississippi Masala\n",
      "Skipping Lorenzo's Oil\n",
      "Skipping Run Lola Run\n",
      "Skipping Friends with Kids\n",
      "Skipping Encounter in the 3rd Dimension (IMAX)\n",
      "Skipping The Green Inferno\n"
     ]
    }
   ],
   "source": [
    "df = analyze.engineer_features_lol()"
   ]
  },
  {
   "cell_type": "code",
   "execution_count": 87,
   "metadata": {},
   "outputs": [],
   "source": [
    "df = df.dropna()\n",
    "df['gross'] = df['gross']/np.max(df['gross'])\n",
    "X = df[['gross','directors_ff','producers_ff','writers_ff']]\n",
    "#X = df[['directors_ff','producers_ff','writers_ff']]\n",
    "\n",
    "df.loc[df.cast_ff < 0.4, 'cast_ff'] = 0\n",
    "df.loc[df.cast_ff >= 0.4, 'cast_ff'] = 1\n",
    "\n",
    "y = df['cast_ff']\n",
    "\n",
    "X_train, X_valid, y_train, y_valid = sklearn.model_selection.train_test_split(X,y, test_size=0.2)\n",
    "#pd.get_dummies(df['studio'])\n",
    "\n",
    "#garr = np.array([])\n",
    "#for row in df['genres']:\n",
    "#    try:\n",
    "#        garr = np.append(garr,json.loads(row))\n",
    "#    except TypeError:\n",
    "#        continue\n",
    "#genres_keys = np.unique(garr)"
   ]
  },
  {
   "cell_type": "code",
   "execution_count": 88,
   "metadata": {},
   "outputs": [
    {
     "data": {
      "text/plain": [
       "RidgeCV(alphas=array([1.e-02, 1.e-01, 1.e+00, 1.e+01, 1.e+02, 1.e+03]), cv=5,\n",
       "        fit_intercept=True, gcv_mode=None, normalize=False, scoring=None,\n",
       "        store_cv_values=False)"
      ]
     },
     "execution_count": 88,
     "metadata": {},
     "output_type": "execute_result"
    }
   ],
   "source": [
    "lrm = sklearn.linear_model.LinearRegression()\n",
    "rdgCV = sklearn.linear_model.RidgeCV(alphas=[0.01,0.1,1,10,100,1000], cv=5)\n",
    "lrm.fit(X_train,y_train)\n",
    "rdgCV.fit(X_train,y_train)"
   ]
  },
  {
   "cell_type": "code",
   "execution_count": 89,
   "metadata": {},
   "outputs": [
    {
     "name": "stdout",
     "output_type": "stream",
     "text": [
      "1.0\n"
     ]
    }
   ],
   "source": [
    "lrm.score(X_train,y_train)\n",
    "print(rdgCV.alpha_)"
   ]
  },
  {
   "cell_type": "code",
   "execution_count": 90,
   "metadata": {},
   "outputs": [
    {
     "data": {
      "text/plain": [
       "0.05019124812815001"
      ]
     },
     "execution_count": 90,
     "metadata": {},
     "output_type": "execute_result"
    }
   ],
   "source": [
    "lrm.score(X_valid,y_valid)"
   ]
  },
  {
   "cell_type": "code",
   "execution_count": 108,
   "metadata": {},
   "outputs": [
    {
     "name": "stdout",
     "output_type": "stream",
     "text": [
      "0.060092411045454375\n",
      "0.050325528874832104\n"
     ]
    }
   ],
   "source": [
    "rdg = sklearn.linear_model.Ridge(alpha=1)\n",
    "rdg.fit(X_train, y_train)\n",
    "print(rdg.score(X_train, y_train))\n",
    "print(rdg.score(X_valid, y_valid))"
   ]
  },
  {
   "cell_type": "code",
   "execution_count": 109,
   "metadata": {},
   "outputs": [],
   "source": [
    "from sklearn.ensemble import RandomForestRegressor,RandomForestClassifier\n",
    "rfr = RandomForestRegressor(n_jobs=-1, n_estimators=100)\n",
    "rfc = RandomForestClassifier(n_jobs=-1, n_estimators=100,class_weight={0:0.001,1:1})"
   ]
  },
  {
   "cell_type": "code",
   "execution_count": 110,
   "metadata": {},
   "outputs": [
    {
     "data": {
      "text/plain": [
       "RandomForestClassifier(bootstrap=True, class_weight={0: 0.001, 1: 1},\n",
       "                       criterion='gini', max_depth=None, max_features='auto',\n",
       "                       max_leaf_nodes=None, min_impurity_decrease=0.0,\n",
       "                       min_impurity_split=None, min_samples_leaf=1,\n",
       "                       min_samples_split=2, min_weight_fraction_leaf=0.0,\n",
       "                       n_estimators=100, n_jobs=-1, oob_score=False,\n",
       "                       random_state=None, verbose=0, warm_start=False)"
      ]
     },
     "execution_count": 110,
     "metadata": {},
     "output_type": "execute_result"
    }
   ],
   "source": [
    "rfr.fit(X_train,y_train)\n",
    "rfc.fit(X_train,y_train)"
   ]
  },
  {
   "cell_type": "code",
   "execution_count": 102,
   "metadata": {},
   "outputs": [
    {
     "name": "stdout",
     "output_type": "stream",
     "text": [
      "0.8406264618780908\n",
      "-0.1977993495252368\n",
      "0.9997336174746937\n",
      "0.8817891373801917\n",
      "0.8817891373801917\n"
     ]
    }
   ],
   "source": [
    "print(rfr.score(X_train,y_train))\n",
    "print(rfr.score(X_valid,y_valid))\n",
    "print(rfc.score(X_train,y_train))\n",
    "print(rfc.score(X_valid,y_valid))\n",
    "print(rfc.score(X_valid,y_valid))"
   ]
  },
  {
   "cell_type": "code",
   "execution_count": 103,
   "metadata": {},
   "outputs": [
    {
     "name": "stdout",
     "output_type": "stream",
     "text": [
      "[0.78191391 0.01196357 0.16661049 0.03951202]\n"
     ]
    }
   ],
   "source": [
    "print(rfc.feature_importances_)\n",
    "#print(rfc.decision_path(X=X_valid))"
   ]
  },
  {
   "cell_type": "code",
   "execution_count": 104,
   "metadata": {},
   "outputs": [
    {
     "data": {
      "text/plain": [
       "0.5158920539730135"
      ]
     },
     "execution_count": 104,
     "metadata": {},
     "output_type": "execute_result"
    }
   ],
   "source": [
    "from sklearn import metrics\n",
    "gt = y_valid\n",
    "pr = rfc.predict(X_valid)\n",
    "metrics.accuracy_score(gt,pr)\n",
    "metrics.balanced_accuracy_score(gt,pr)"
   ]
  },
  {
   "cell_type": "code",
   "execution_count": 105,
   "metadata": {},
   "outputs": [],
   "source": [
    "fmissed = np.size(np.where(gt-pr == 1.0)[0])\n",
    "mmisscl = np.size(np.where(gt-pr == -1.0)[0])\n",
    "ftot = np.size(np.where(gt == 1.0)[0])\n",
    "mtot = np.size(np.where(gt == 0)[0])"
   ]
  },
  {
   "cell_type": "code",
   "execution_count": 106,
   "metadata": {},
   "outputs": [
    {
     "name": "stdout",
     "output_type": "stream",
     "text": [
      "63 69\n"
     ]
    }
   ],
   "source": [
    "print(fmissed,ftot)"
   ]
  },
  {
   "cell_type": "code",
   "execution_count": 107,
   "metadata": {},
   "outputs": [
    {
     "name": "stdout",
     "output_type": "stream",
     "text": [
      "48 870\n"
     ]
    }
   ],
   "source": [
    "print(mmisscl,mtot)"
   ]
  },
  {
   "cell_type": "code",
   "execution_count": null,
   "metadata": {},
   "outputs": [],
   "source": []
  }
 ],
 "metadata": {
  "kernelspec": {
   "display_name": "Python 3",
   "language": "python",
   "name": "python3"
  },
  "language_info": {
   "codemirror_mode": {
    "name": "ipython",
    "version": 3
   },
   "file_extension": ".py",
   "mimetype": "text/x-python",
   "name": "python",
   "nbconvert_exporter": "python",
   "pygments_lexer": "ipython3",
   "version": "3.6.8"
  }
 },
 "nbformat": 4,
 "nbformat_minor": 2
}
